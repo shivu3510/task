{
  "nbformat": 4,
  "nbformat_minor": 0,
  "metadata": {
    "colab": {
      "provenance": [],
      "authorship_tag": "ABX9TyNzMmDwQNSNosOIiW5tluX+",
      "include_colab_link": true
    },
    "kernelspec": {
      "name": "python3",
      "display_name": "Python 3"
    },
    "language_info": {
      "name": "python"
    }
  },
  "cells": [
    {
      "cell_type": "markdown",
      "metadata": {
        "id": "view-in-github",
        "colab_type": "text"
      },
      "source": [
        "<a href=\"https://colab.research.google.com/github/shivu3510/task/blob/main/ATM.ipynb\" target=\"_parent\"><img src=\"https://colab.research.google.com/assets/colab-badge.svg\" alt=\"Open In Colab\"/></a>"
      ]
    },
    {
      "cell_type": "code",
      "source": [
        "\n",
        "\n",
        "\n",
        "print(\"welcome to latur bank of india\")\n",
        "\n",
        "print(\"please, insert your card\")\n",
        "\n",
        "print(\"***fetching data***\")\n",
        "\n",
        "bal=5000\n",
        "\n",
        "pin=int(input(\"enter your pin\"))\n",
        "\n",
        "if pin==1265:\n",
        "\n",
        "    choice=input(\"1)withdraw\\n2) deposit\\n3)check balance\\n please enter your choice\")\n",
        "\n",
        "    if choice==\"withdraw\" or choice==\"Withdraw\":\n",
        "\n",
        "        wd=int(input(\"how much amount do you want to withdraw\"))\n",
        "\n",
        "        bal=bal-wd\n",
        "\n",
        "        print(\"your current balance is\",bal)\n",
        "\n",
        "    elif choice==\"deposit\" or choice==\"Deposit\":\n",
        "\n",
        "        d=int(input(\"how much amount do you know to deposit\"))\n",
        "\n",
        "        bal=bal+d\n",
        "\n",
        "        print (\"your current balance is\",bal)\n",
        "\n",
        "    elif choice==\"check balance\" or choice==\"check balance\":\n",
        "\n",
        "      print (\"your current balance is\",bal)\n",
        "\n",
        "    else:\n",
        "\n",
        "        print (\"invalid input\")\n",
        "\n",
        "else:\n",
        "\n",
        "    print (\"invalid pin, please try again\")"
      ],
      "metadata": {
        "colab": {
          "base_uri": "https://localhost:8080/"
        },
        "id": "L9yPiKRrPZST",
        "outputId": "bac4cad9-2fab-4564-d01f-0b4e813cd26e"
      },
      "execution_count": null,
      "outputs": [
        {
          "output_type": "stream",
          "name": "stdout",
          "text": [
            "welcome to latur bank of india\n",
            "please, insert your card\n",
            "***fetching data***\n",
            "enter your pin1265\n",
            "1)withdraw\n",
            "2) deposit\n",
            "3)check balance\n",
            " please enter your choice1\n",
            "invalid input\n"
          ]
        }
      ]
    }
  ]
}